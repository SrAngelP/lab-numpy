{
 "cells": [
  {
   "cell_type": "code",
   "execution_count": 8,
   "id": "6d6639fd",
   "metadata": {},
   "outputs": [
    {
     "name": "stdout",
     "output_type": "stream",
     "text": [
      "1.21.5\n"
     ]
    }
   ],
   "source": [
    "import numpy as np\n",
    "\n",
    "print(np.version.version)"
   ]
  },
  {
   "cell_type": "code",
   "execution_count": 49,
   "id": "1ec9d546",
   "metadata": {},
   "outputs": [
    {
     "name": "stdout",
     "output_type": "stream",
     "text": [
      "[[[0.21511267 0.32493067 0.94640293 0.11105575 0.77590567]\n",
      "  [0.79279194 0.73013988 0.18469523 0.80536587 0.50071   ]\n",
      "  [0.28316874 0.70797959 0.77123799 0.35876243 0.62991103]]\n",
      "\n",
      " [[0.35742912 0.82740861 0.51713086 0.40822923 0.74438684]\n",
      "  [0.76005348 0.47009466 0.31189957 0.3799173  0.96349338]\n",
      "  [0.75669672 0.52299693 0.09041985 0.23826674 0.99382432]]]\n",
      "30\n",
      "(2, 3, 5)\n"
     ]
    },
    {
     "data": {
      "text/plain": [
       "array([[0.35742912, 0.82740861, 0.51713086, 0.40822923, 0.74438684],\n",
       "       [0.76005348, 0.47009466, 0.31189957, 0.3799173 , 0.96349338],\n",
       "       [0.75669672, 0.52299693, 0.09041985, 0.23826674, 0.99382432]])"
      ]
     },
     "execution_count": 49,
     "metadata": {},
     "output_type": "execute_result"
    }
   ],
   "source": [
    "a =  np.random.random((2,3,5));\n",
    "print(a);\n",
    "print(a.size);\n",
    "print(a.shape);\n",
    "\n",
    "a[0:3][0:2][1]"
   ]
  },
  {
   "cell_type": "code",
   "execution_count": 53,
   "id": "9894aea1",
   "metadata": {},
   "outputs": [
    {
     "data": {
      "text/plain": [
       "array([[[1., 1.],\n",
       "        [1., 1.],\n",
       "        [1., 1.]],\n",
       "\n",
       "       [[1., 1.],\n",
       "        [1., 1.],\n",
       "        [1., 1.]],\n",
       "\n",
       "       [[1., 1.],\n",
       "        [1., 1.],\n",
       "        [1., 1.]],\n",
       "\n",
       "       [[1., 1.],\n",
       "        [1., 1.],\n",
       "        [1., 1.]],\n",
       "\n",
       "       [[1., 1.],\n",
       "        [1., 1.],\n",
       "        [1., 1.]]])"
      ]
     },
     "execution_count": 53,
     "metadata": {},
     "output_type": "execute_result"
    }
   ],
   "source": [
    "b = np.ones((5,3,2))\n",
    "b"
   ]
  },
  {
   "cell_type": "code",
   "execution_count": 54,
   "id": "84b050d7",
   "metadata": {},
   "outputs": [
    {
     "ename": "ValueError",
     "evalue": "operands could not be broadcast together with shapes (2,3,5) (5,3,2) ",
     "output_type": "error",
     "traceback": [
      "\u001b[1;31m---------------------------------------------------------------------------\u001b[0m",
      "\u001b[1;31mValueError\u001b[0m                                Traceback (most recent call last)",
      "Input \u001b[1;32mIn [54]\u001b[0m, in \u001b[0;36m<cell line: 1>\u001b[1;34m()\u001b[0m\n\u001b[1;32m----> 1\u001b[0m \u001b[43ma\u001b[49m\u001b[38;5;241;43m+\u001b[39;49m\u001b[43mb\u001b[49m\n",
      "\u001b[1;31mValueError\u001b[0m: operands could not be broadcast together with shapes (2,3,5) (5,3,2) "
     ]
    }
   ],
   "source": [
    "a+b"
   ]
  },
  {
   "cell_type": "code",
   "execution_count": 55,
   "id": "ec8b4dfc",
   "metadata": {},
   "outputs": [
    {
     "name": "stdout",
     "output_type": "stream",
     "text": [
      "[[[1. 1. 1. 1. 1.]\n",
      "  [1. 1. 1. 1. 1.]\n",
      "  [1. 1. 1. 1. 1.]]\n",
      "\n",
      " [[1. 1. 1. 1. 1.]\n",
      "  [1. 1. 1. 1. 1.]\n",
      "  [1. 1. 1. 1. 1.]]]\n"
     ]
    }
   ],
   "source": [
    "c = np.transpose(b)\n",
    "print(c)"
   ]
  },
  {
   "cell_type": "code",
   "execution_count": 59,
   "id": "45765768",
   "metadata": {},
   "outputs": [
    {
     "name": "stdout",
     "output_type": "stream",
     "text": [
      "[[[0.21511267 0.32493067 0.94640293 0.11105575 0.77590567]\n",
      "  [0.79279194 0.73013988 0.18469523 0.80536587 0.50071   ]\n",
      "  [0.28316874 0.70797959 0.77123799 0.35876243 0.62991103]]\n",
      "\n",
      " [[0.35742912 0.82740861 0.51713086 0.40822923 0.74438684]\n",
      "  [0.76005348 0.47009466 0.31189957 0.3799173  0.96349338]\n",
      "  [0.75669672 0.52299693 0.09041985 0.23826674 0.99382432]]]\n",
      "\n",
      "[[[1.21511267 1.32493067 1.94640293 1.11105575 1.77590567]\n",
      "  [1.79279194 1.73013988 1.18469523 1.80536587 1.50071   ]\n",
      "  [1.28316874 1.70797959 1.77123799 1.35876243 1.62991103]]\n",
      "\n",
      " [[1.35742912 1.82740861 1.51713086 1.40822923 1.74438684]\n",
      "  [1.76005348 1.47009466 1.31189957 1.3799173  1.96349338]\n",
      "  [1.75669672 1.52299693 1.09041985 1.23826674 1.99382432]]]\n"
     ]
    }
   ],
   "source": [
    "d = a+c;\n",
    "print(a);\n",
    "print(\"\")\n",
    "print(d);"
   ]
  },
  {
   "cell_type": "code",
   "execution_count": 61,
   "id": "82ef631f",
   "metadata": {},
   "outputs": [
    {
     "name": "stdout",
     "output_type": "stream",
     "text": [
      "[[[0.21511267 0.32493067 0.94640293 0.11105575 0.77590567]\n",
      "  [0.79279194 0.73013988 0.18469523 0.80536587 0.50071   ]\n",
      "  [0.28316874 0.70797959 0.77123799 0.35876243 0.62991103]]\n",
      "\n",
      " [[0.35742912 0.82740861 0.51713086 0.40822923 0.74438684]\n",
      "  [0.76005348 0.47009466 0.31189957 0.3799173  0.96349338]\n",
      "  [0.75669672 0.52299693 0.09041985 0.23826674 0.99382432]]]\n",
      "\n",
      "[[[0.21511267 0.32493067 0.94640293 0.11105575 0.77590567]\n",
      "  [0.79279194 0.73013988 0.18469523 0.80536587 0.50071   ]\n",
      "  [0.28316874 0.70797959 0.77123799 0.35876243 0.62991103]]\n",
      "\n",
      " [[0.35742912 0.82740861 0.51713086 0.40822923 0.74438684]\n",
      "  [0.76005348 0.47009466 0.31189957 0.3799173  0.96349338]\n",
      "  [0.75669672 0.52299693 0.09041985 0.23826674 0.99382432]]]\n"
     ]
    }
   ],
   "source": [
    "e = a*c;\n",
    "print(a);\n",
    "print(\"\")\n",
    "print(e);\n"
   ]
  },
  {
   "cell_type": "markdown",
   "id": "dbbcc911",
   "metadata": {},
   "source": [
    "d_max = np.amax(d);\n",
    "d_min = np.amin(d);\n",
    "d_mean = np.mean(d);\n",
    "print(d_max);\n",
    "print(d_min);\n",
    "print(d_mean);"
   ]
  },
  {
   "cell_type": "code",
   "execution_count": 100,
   "id": "996f857c",
   "metadata": {},
   "outputs": [
    {
     "name": "stdout",
     "output_type": "stream",
     "text": [
      "[[[0. 0. 0. 0. 0.]\n",
      "  [0. 0. 0. 0. 0.]\n",
      "  [0. 0. 0. 0. 0.]]\n",
      "\n",
      " [[0. 0. 0. 0. 0.]\n",
      "  [0. 0. 0. 0. 0.]\n",
      "  [0. 0. 0. 0. 0.]]]\n"
     ]
    }
   ],
   "source": [
    "f = np.zeros((2,3,5))\n",
    "print(f)"
   ]
  },
  {
   "cell_type": "code",
   "execution_count": 119,
   "id": "a672bf0c",
   "metadata": {},
   "outputs": [
    {
     "name": "stdout",
     "output_type": "stream",
     "text": [
      "1.97066381\n",
      "1.00656599\n",
      "1.6175069086666667\n",
      "[[[  0.   0.   0.  75.   0.]\n",
      "  [  0.   0.  75.  75.  75.]\n",
      "  [  0.  75.   0.   0.   0.]]\n",
      "\n",
      " [[ 75.  75.  75.  75. 100.]\n",
      "  [  0.   0.   0.   0.   0.]\n",
      "  [ 75.   0.   0.   0.   0.]]]\n"
     ]
    }
   ],
   "source": [
    "d = ([[[1.85836099, 1.67064465, 1.62576044, 1.40243961, 1.88454931],\n",
    "        [1.75354326, 1.69403643, 1.36729252, 1.61415071, 1.12104981],\n",
    "        [1.72201435, 1.1862918 , 1.87078449, 1.7726778 , 1.88180042]],\n",
    "\n",
    "       [[1.44747908, 1.31673383, 1.02000951, 1.52218947, 1.97066381],\n",
    "        [1.79129243, 1.74983003, 1.96028037, 1.85166831, 1.65450881],\n",
    "        [1.18068344, 1.9587381 , 1.00656599, 1.93402165, 1.73514584]]])\n",
    "\n",
    "d_max = np.amax(d);\n",
    "d_min = np.amin(d);\n",
    "d_mean = np.mean(d);\n",
    "print(d_max);\n",
    "print(d_min);\n",
    "print(d_mean);\n",
    "\n",
    "f = np.zeros((2,3,5))\n",
    "\n",
    "a,b,c = f.shape\n",
    "\n",
    "for i in range(a):\n",
    "    for j in range(b):\n",
    "        for k in range(c):\n",
    "            if d[i][j][k]>d_min and d[i][j][k]<d_mean:\n",
    "                f[i][j][k] = 75;\n",
    "            elif d[i][j][k] == d_mean:\n",
    "                f[i][j][k] = 50;\n",
    "            elif d[i][j][k] == d_min:\n",
    "                f[i][j][k] = 0;\n",
    "            elif d[i][j][k] == d_max:\n",
    "                f[i][j][k] = 100;\n",
    "                \n",
    "                \n",
    "print(f);\n"
   ]
  },
  {
   "cell_type": "code",
   "execution_count": 109,
   "id": "5b98e3f2",
   "metadata": {},
   "outputs": [
    {
     "data": {
      "text/plain": [
       "5"
      ]
     },
     "execution_count": 109,
     "metadata": {},
     "output_type": "execute_result"
    }
   ],
   "source": [
    "\n"
   ]
  },
  {
   "cell_type": "code",
   "execution_count": null,
   "id": "f3d49de3",
   "metadata": {},
   "outputs": [],
   "source": []
  }
 ],
 "metadata": {
  "kernelspec": {
   "display_name": "Python 3 (ipykernel)",
   "language": "python",
   "name": "python3"
  },
  "language_info": {
   "codemirror_mode": {
    "name": "ipython",
    "version": 3
   },
   "file_extension": ".py",
   "mimetype": "text/x-python",
   "name": "python",
   "nbconvert_exporter": "python",
   "pygments_lexer": "ipython3",
   "version": "3.9.12"
  }
 },
 "nbformat": 4,
 "nbformat_minor": 5
}
